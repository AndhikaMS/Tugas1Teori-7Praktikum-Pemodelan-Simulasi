{
  "nbformat": 4,
  "nbformat_minor": 0,
  "metadata": {
    "colab": {
      "provenance": [],
      "authorship_tag": "ABX9TyMKohczFo7IrE50rx2IzAwI",
      "include_colab_link": true
    },
    "kernelspec": {
      "name": "python3",
      "display_name": "Python 3"
    },
    "language_info": {
      "name": "python"
    }
  },
  "cells": [
    {
      "cell_type": "markdown",
      "metadata": {
        "id": "view-in-github",
        "colab_type": "text"
      },
      "source": [
        "<a href=\"https://colab.research.google.com/github/AndhikaMS/Tugas1Teori-7Praktikum-Pemodelan-Simulasi/blob/main/Tugas1Teori_Tugas7Praktikum_Pemodelan_Simulasi.ipynb\" target=\"_parent\"><img src=\"https://colab.research.google.com/assets/colab-badge.svg\" alt=\"Open In Colab\"/></a>"
      ]
    },
    {
      "cell_type": "markdown",
      "source": [
        "Studi Kasus: Waktu Penyelesaian Rubik\n",
        "Dalam permainan Rubik 3x3,\n",
        "\n",
        "Waktu penyelesaian setiap \"solve\" dapat dikategorikan menjadi dua kategori:\n",
        "\n",
        "Cepat: Waktu penyelesaian kurang dari atau sama dengan 15 detik.\n",
        "\n",
        "Lambat: Waktu penyelesaian lebih dari 15 detik.\n",
        "\n",
        "Berdasarkan data satu sesi waktu penyelesaian Rubik yang sudah dilakukan:\n",
        "\n",
        "Solve 1: 11 detik (Cepat)\n",
        "\n",
        "Solve 2: 16 detik (Lambat)\n",
        "\n",
        "Solve 3: 18 detik (Lambat)\n",
        "\n",
        "Solve 4: 12 detik (Cepat)\n",
        "\n",
        "Solve 5: 14 detik (Cepat)\n",
        "\n",
        "Dari data ini, kita dapat menghitung probabilitas transisi antara kategori Cepat dan Lambat:\n",
        "\n",
        "Berapa kali waktu berpindah dari Cepat ke Cepat atau Cepat ke Lambat.\n",
        "\n",
        "Berapa kali waktu berpindah dari Lambat ke Cepat atau Lambat ke Lambat.\n",
        "\n",
        "\n",
        "\n",
        "Tujuan Analisis:\n",
        "\n",
        "Menentukan matriks transisi berdasarkan data yang diberikan.\n",
        "Menggunakan model Markov Chain untuk memprediksi distribusi probabilitas waktu penyelesaian (Cepat atau Lambat) pada sesi-sesi selanjutnya.\n",
        "Menemukan kondisi steady state (distribusi probabilitas stabil untuk waktu Cepat dan Lambat).\n",
        "\n",
        "\n",
        "Hasil Analisis Awal :\n",
        "Berdasarkan data, matriks transisi dihitung sebagai berikut:\n",
        "\n",
        "𝑃=[0.5 0.5\n",
        "   0.5  0.5 ]\n",
        "\n",
        "Keterangan:\n",
        "\n",
        "Baris pertama (kategori Cepat):\n",
        "\n",
        "Probabilitas tetap Cepat: 0.5.\n",
        "\n",
        "Probabilitas berpindah ke Lambat: 0.5.\n",
        "\n",
        "\n",
        "Baris kedua (kategori Lambat):\n",
        "\n",
        "Probabilitas berpindah ke Cepat: 0.5.\n",
        "Probabilitas tetap Lambat: 0.5.\n",
        "\n",
        "\n",
        "Kondisi awal dapat ditentukan sebagai:\n",
        "\n",
        "100% Cepat pada sesi awal: [1, 0] (asumsi).\n",
        "\n",
        "Atau berdasarkan distribusi kategori dari data sesi awal: [0.6, 0.4] (jika dihitung dari data Solve 1).\n",
        "\n",
        "Lalu proses iterasi dilakukan untuk menghitung probabilitas kategori waktu pada sesi-sesi berikutnya hingga mencapai steady state."
      ],
      "metadata": {
        "id": "Nlu3rWUKYso-"
      }
    },
    {
      "cell_type": "code",
      "execution_count": null,
      "metadata": {
        "id": "Gpv4x9PtS5Q0"
      },
      "outputs": [],
      "source": [
        "import numpy as np\n",
        "from IPython.display import Math\n",
        "import sympy as sym"
      ]
    },
    {
      "cell_type": "markdown",
      "source": [
        "Penjelasan:\n",
        "Kita mengimpor library yang dibutuhkan:\n",
        "\n",
        "numpy: Untuk perhitungan matriks dan operasi linier.\n",
        "\n",
        "\n",
        "Math dari IPython.display: Untuk menampilkan persamaan atau hasil dalam format matematis jika dibutuhkan.\n",
        "\n",
        "\n",
        "sympy: Untuk simbolisasi persamaan matematis.\n",
        "\n",
        "\n"
      ],
      "metadata": {
        "id": "K1iBNAUiS-6F"
      }
    },
    {
      "cell_type": "code",
      "source": [
        "P = np.array([[0.5, 0.5],\n",
        "              [0.5, 0.5]])\n",
        "print(\"Matriks Transisi P:\")\n",
        "print(P)"
      ],
      "metadata": {
        "colab": {
          "base_uri": "https://localhost:8080/"
        },
        "id": "Bkb4rk5ITA2l",
        "outputId": "8ad5b0ab-3476-4709-ae37-7a5fab8a3524"
      },
      "execution_count": null,
      "outputs": [
        {
          "output_type": "stream",
          "name": "stdout",
          "text": [
            "Matriks Transisi P:\n",
            "[[0.5 0.5]\n",
            " [0.5 0.5]]\n"
          ]
        }
      ]
    },
    {
      "cell_type": "markdown",
      "source": [
        "Jumlah transisi untuk masing-masing kategori:\n",
        "\n",
        "Dari cepat:\n",
        "\n",
        "Cepat → Cepat: 1 kali\n",
        "\n",
        "Cepat → Lambat: 1 kali\n",
        "\n",
        "Total dari cepat: 2 kali.\n",
        "\n",
        "Dari lambat:\n",
        "\n",
        "Lambat → Cepat: 1 kali\n",
        "\n",
        "Lambat → Lambat: 1 kali\n",
        "\n",
        "Total dari lambat: 2 kali.\n",
        "\n",
        "Matriks transisi dihitung dengan membagi jumlah transisi ke masing-masing kategori oleh total transisi dari kategori asalnya.\n",
        "\n",
        "Baris pertama (dari cepat):\n",
        "\n",
        "Cepat → Cepat: 1/2 = 0.5\n",
        "\n",
        "Cepat → Lambat: 1/2 = 0.5\n",
        "\n",
        "\n",
        "Baris kedua (dari lambat):\n",
        "\n",
        "Lambat → Cepat: 1/2 = 0.5\n",
        "\n",
        "Lambat → Lambat: 1/2 = 0.5\n"
      ],
      "metadata": {
        "id": "u7f_g3SVTCXF"
      }
    },
    {
      "cell_type": "code",
      "source": [
        "# Kondisi awal (asumsi: mulai dengan waktu cepat)\n",
        "initial_state = np.array([1, 0])\n",
        "print(\"Kondisi Awal:\")\n",
        "print(initial_state)"
      ],
      "metadata": {
        "colab": {
          "base_uri": "https://localhost:8080/"
        },
        "id": "nQDvnsdJTPkF",
        "outputId": "39391708-b729-43bc-ded0-10ba181ec744"
      },
      "execution_count": null,
      "outputs": [
        {
          "output_type": "stream",
          "name": "stdout",
          "text": [
            "Kondisi Awal:\n",
            "[1 0]\n"
          ]
        }
      ]
    },
    {
      "cell_type": "markdown",
      "source": [
        "initial_state adalah vektor probabilitas kondisi awal.\n",
        "\n",
        "\n",
        "[1, 0] artinya sesi pertama dimulai dengan kondisi Cepat dengan probabilitas 100% (Cepat pasti terjadi).\n",
        "\n",
        "\n",
        "Jika berdasarkan data lain, kondisi awal bisa menggunakan proporsi, seperti [0.5, 0.5]."
      ],
      "metadata": {
        "id": "HxnmDFs5TQqU"
      }
    },
    {
      "cell_type": "code",
      "source": [
        "# Prediksi sesi 2\n",
        "session_2 = np.dot(initial_state, P)\n",
        "print(\"Probabilitas pada Sesi 2:\")\n",
        "print(session_2)"
      ],
      "metadata": {
        "colab": {
          "base_uri": "https://localhost:8080/"
        },
        "id": "gYphy8HkTS9c",
        "outputId": "bb5a1c15-ec91-416a-a78c-a1362ccf9388"
      },
      "execution_count": null,
      "outputs": [
        {
          "output_type": "stream",
          "name": "stdout",
          "text": [
            "Probabilitas pada Sesi 2:\n",
            "[0.5 0.5]\n"
          ]
        }
      ]
    },
    {
      "cell_type": "markdown",
      "source": [
        "Perkalian matriks digunakan untuk menghitung distribusi probabilitas sesi berikutnya.\n",
        "\n",
        "\n",
        "initial_state × P menghasilkan distribusi probabilitas untuk sesi ke-2.\n",
        "Hasilnya adalah [0.5, 0.5], artinya:\n",
        "\n",
        "\n",
        "Ada peluang 50% untuk Cepat.\n",
        "\n",
        "\n",
        "Ada peluang 50% untuk Lambat."
      ],
      "metadata": {
        "id": "-t0xagNZTU8L"
      }
    },
    {
      "cell_type": "code",
      "source": [
        "# Prediksi sesi 3\n",
        "session_3 = np.dot(session_2, P)\n",
        "print(\"Probabilitas pada Sesi 3:\")\n",
        "print(session_3)"
      ],
      "metadata": {
        "colab": {
          "base_uri": "https://localhost:8080/"
        },
        "id": "fsMjWMYcTXtE",
        "outputId": "cda5a188-9b13-4cdb-e383-0c9dc2bcb8fd"
      },
      "execution_count": null,
      "outputs": [
        {
          "output_type": "stream",
          "name": "stdout",
          "text": [
            "Probabilitas pada Sesi 3:\n",
            "[0.5 0.5]\n"
          ]
        }
      ]
    },
    {
      "cell_type": "markdown",
      "source": [
        "Distribusi probabilitas sesi 2 (session_2) digunakan sebagai input untuk prediksi sesi 3.\n",
        "\n",
        "\n",
        "Perkalian matriks session_2 × P menghasilkan distribusi probabilitas sesi ke-3."
      ],
      "metadata": {
        "id": "PBHqM4SjTdc0"
      }
    },
    {
      "cell_type": "code",
      "source": [
        "# Iterasi hingga mencapai steady state\n",
        "tolerance = 0.001\n",
        "current_state = session_3\n",
        "iteration = 3\n",
        "\n",
        "while True:\n",
        "    next_state = np.dot(current_state, P)\n",
        "    print(f\"Probabilitas pada Sesi {iteration + 1}: {next_state}\")\n",
        "\n",
        "    # Cek apakah perubahan sudah di bawah toleransi\n",
        "    if np.all(np.abs(next_state - current_state) < tolerance):\n",
        "        print(f\"Steady state tercapai pada sesi {iteration + 1}\")\n",
        "        break\n",
        "\n",
        "    # Update state untuk iterasi berikutnya\n",
        "    current_state = next_state\n",
        "    iteration += 1"
      ],
      "metadata": {
        "colab": {
          "base_uri": "https://localhost:8080/"
        },
        "id": "1U43NlzpTgqD",
        "outputId": "29af9ec3-432e-4d9e-ec5c-854b3ecd2eff"
      },
      "execution_count": null,
      "outputs": [
        {
          "output_type": "stream",
          "name": "stdout",
          "text": [
            "Probabilitas pada Sesi 4: [0.5 0.5]\n",
            "Steady state tercapai pada sesi 4\n"
          ]
        }
      ]
    },
    {
      "cell_type": "markdown",
      "source": [
        "Iterasi dilakukan untuk menghitung distribusi probabilitas dari sesi ke-4, ke-5, dan seterusnya hingga mencapai steady state.\n",
        "\n",
        "\n",
        "Steady state tercapai jika perubahan antara distribusi probabilitas sesi saat ini dan sesi berikutnya lebih kecil dari nilai toleransi (tolerance), yaitu 0.001.\n",
        "\n",
        "\n",
        "Probabilitas steady state adalah kondisi stabil di mana distribusi probabilitas tidak lagi berubah signifikan.\n",
        "\n",
        "Ralat: Steady state terjadi pada sesi kedua"
      ],
      "metadata": {
        "id": "QRuSdkM_TjCa"
      }
    },
    {
      "cell_type": "markdown",
      "source": [],
      "metadata": {
        "id": "5O-t3Ya2eGvs"
      }
    }
  ]
}